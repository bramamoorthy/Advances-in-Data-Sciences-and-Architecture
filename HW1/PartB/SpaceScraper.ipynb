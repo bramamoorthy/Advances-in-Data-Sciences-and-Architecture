{
 "cells": [
  {
   "cell_type": "code",
   "execution_count": 3,
   "metadata": {
    "collapsed": true
   },
   "outputs": [],
   "source": [
    "from __future__ import print_function\n",
    "import urllib3 #  pip install -i https://pypi.anaconda.org/pypi/simple urllib3\n",
    "import unicodedata\n",
    "from bs4 import BeautifulSoup, SoupStrainer, Comment\n",
    "import warnings\n",
    "warnings.filterwarnings('ignore')"
   ]
  },
  {
   "cell_type": "code",
   "execution_count": 7,
   "metadata": {
    "collapsed": true
   },
   "outputs": [],
   "source": [
    "url='https://www.space.com/38121-mars-rover-curiosity-boron-habitability.html'"
   ]
  },
  {
   "cell_type": "code",
   "execution_count": 8,
   "metadata": {},
   "outputs": [
    {
     "data": {
      "text/plain": [
       "200"
      ]
     },
     "execution_count": 8,
     "metadata": {},
     "output_type": "execute_result"
    }
   ],
   "source": [
    "http = urllib3.PoolManager()\n",
    "response = http.request('GET',url)\n",
    "response.status"
   ]
  },
  {
   "cell_type": "code",
   "execution_count": 9,
   "metadata": {
    "collapsed": true
   },
   "outputs": [],
   "source": [
    "soup=BeautifulSoup(response.data, \"lxml\")"
   ]
  },
  {
   "cell_type": "code",
   "execution_count": 12,
   "metadata": {},
   "outputs": [
    {
     "data": {
      "text/plain": [
       "[<a class=\"nav-item \" href=\"/news\">news</a>,\n",
       " <a class=\"nav-item \" href=\"/tech-robots\">tech</a>,\n",
       " <a class=\"nav-item \" href=\"/spaceflight\">spaceflight</a>,\n",
       " <a class=\"nav-item \" href=\"/science-astronomy\">science &amp; astronomy</a>,\n",
       " <a class=\"nav-item \" href=\"/search-for-life\">search for life</a>,\n",
       " <a class=\"nav-item \" href=\"/skywatching\">skywatching</a>,\n",
       " <a class=\"nav-item \" href=\"/video\">video</a>,\n",
       " <a class=\"nav-item highlight\" href=\"/33797-total-solar-eclipse-2017-guide.html\">Eclipse 2017</a>,\n",
       " <a href=\"https://www.facebook.com/spacecom?cmpid=556675\"><i class=\"fa fa-facebook\"></i></a>,\n",
       " <a href=\"https://flipboard.com/@Spacecom\"><i class=\"fa fa-flipboard\"></i></a>,\n",
       " <a href=\"https://twitter.com/SPACEdotcom?cmpid=556676\"><i class=\"fa fa-twitter\"></i></a>,\n",
       " <a href=\"https://plus.google.com/+SPACEcom/posts?cmpid=556678\" rel=\"publisher\"><i class=\"fa fa-google-plus\"></i></a>,\n",
       " <a class=\"hdr-logo\" href=\"/\"><svg class=\"hdr-svg\" id=\"space-logo\" version=\"1.1\" viewbox=\"0 0 258 60\" x=\"0px\" xml:space=\"preserve\" xmlns=\"https://www.w3.org/2000/svg\" xmlns:xlink=\"https://www.w3.org/1999/xlink\" y=\"0px\">\n",
       " <polygon fill=\"#FFFFFF\" points=\"147.3,58.2 123.6,1.7 111.1,1.7 87.3,58.2 99.9,58.2 117.3,16.6 134.8,58.2\"></polygon>\n",
       " <path d=\"M24.4,58.8c-8.5,0-17.1-3-23.8-9l7.3-8.7c5,4.2,10.3,6.8,16.7,6.8c5,0,8.1-2,8.1-5.3\n",
       "     v-0.2c0-3.1-1.9-4.7-11.3-7.1c-11.3-2.9-18.6-6-18.6-17.1V18C2.8,7.8,11,1.1,22.4,1.1c8.2,0,15.1,2.6,20.8,7.1l-6.4,9.3\n",
       "     c-5-3.4-9.9-5.5-14.6-5.5c-4.7,0-7.2,2.2-7.2,4.9V17c0,3.7,2.4,4.9,12.1,7.4c11.4,3,17.8,7.1,17.8,16.8v0.2\n",
       "     C45,52.5,36.5,58.8,24.4,58.8z\" fill=\"#FFFFFF\"></path>\n",
       " <path d=\"M72.2,41.1h-9.4V58H50.5V1.9h22.9c13.4,0,21.5,7.9,21.5,19.4v0.2\n",
       "     C94.8,34.4,84.8,41.1,72.2,41.1z M82.3,21.5c0-5.5-3.8-8.5-10-8.5h-9.5v17.1h9.8c6.2,0,9.8-3.7,9.8-8.5V21.5z\" fill=\"#FFFFFF\"></path>\n",
       " <path d=\"M172.9,58.9c-16.5,0-28.8-12.7-28.8-28.8v-0.2c0-15.9,12-29,29.2-29\n",
       "     c10.6,0,16.9,3.5,22.1,8.7l-7.8,9.1c-4.3-3.9-8.7-6.3-14.3-6.3c-9.5,0-16.3,7.9-16.3,17.5v0.2c0,9.6,6.7,17.6,16.3,17.6\n",
       "     c6.4,0,10.3-2.6,14.7-6.6l7.8,7.9C190.2,55.1,183.7,58.9,172.9,58.9z\" fill=\"#FFFFFF\"></path>\n",
       " <path d=\"M202.3,58V1.9h33.5v11h-21.3v11.4h17.7v11h-17.7V47h21.7v11H202.3z\" fill=\"#FFFFFF\"></path>\n",
       " <path d=\"M242.3,1.7h3.9v4h-3.9V1.7z\" fill=\"#FFFFFF\"></path>\n",
       " <path d=\"M242,14.5c0-3.9,3-6.8,6.8-6.8h0c3.7,0,6.8,2.9,6.8,6.9c0,2.5-0.8,4-2.2,5.2\n",
       "     l-2.4-2.3c0.9-0.8,1.4-1.7,1.4-3c0-1.9-1.6-3.2-3.6-3.2h0c-2,0-3.6,1.3-3.6,3.3c0,1.2,0.5,2.1,1.4,3l-2.2,2.2\n",
       "     C243,18.6,242,17.1,242,14.5z\" fill=\"#FFFFFF\"></path>\n",
       " <path d=\"M242,28.4c0-4.1,3-7.1,6.8-7.1h0c3.8,0,6.8,3,6.8,7.1c0,4.1-3,7.1-6.8,7.1h0\n",
       "     C245,35.5,242,32.4,242,28.4z M248.8,31.8c1.9,0,3.6-1.4,3.6-3.4c0-2.1-1.6-3.4-3.6-3.4h0c-1.9,0-3.6,1.4-3.6,3.4\n",
       "     C245.2,30.5,246.8,31.8,248.8,31.8L248.8,31.8z\" fill=\"#FFFFFF\"></path>\n",
       " <path d=\"M242.3,54.4h7.3c1.8,0,2.7-0.8,2.7-2.2s-0.9-2.3-2.7-2.3h-7.3v-3.7h7.3\n",
       "     c1.8,0,2.7-0.8,2.7-2.2c0-1.4-0.9-2.2-2.7-2.2h-7.3v-3.7h13.1v3.7h-1.9c1.1,0.9,2.1,2,2.1,3.9c0,1.7-0.8,3-2.1,3.7\n",
       "     c1.3,1.1,2.1,2.5,2.1,4.3c0,2.8-1.7,4.4-4.8,4.4h-8.5V54.4z\" fill=\"#FFFFFF\"></path>\n",
       " </svg></a>,\n",
       " <a href=\"https://www.facebook.com/spacecom?cmpid=556675\" target=\"_blank\"><i class=\"fa fa-facebook\"></i></a>,\n",
       " <a href=\"https://flipboard.com/@Spacecom\" target=\"_blank\">\n",
       " <svg class=\"flipboardHeader\" height=\"40px\" version=\"1.1\" viewbox=\"-16.531 -10 40 40\" width=\"40px\" x=\"0px\" xml:space=\"preserve\" xmlns=\"https://www.w3.org/2000/svg\" xmlns:xlink=\"https://www.w3.org/1999/xlink\" y=\"0px\">\n",
       " <polygon points=\"-16.531,-10 -16.531,3.301 -16.531,16.579 -16.531,29.879 -3.23,29.879 -3.23,16.579\n",
       " \t\t-3.23,3.301 -3.23,-10 \t\"></polygon>\n",
       " <rect height=\"13.278\" width=\"13.278\" x=\"-3.23\" y=\"3.301\"></rect>\n",
       " <polygon points=\"10.048,-10 -3.23,-10 -3.23,3.301 10.048,3.301 23.348,3.301 23.348,-10 \t\"></polygon>\n",
       " </svg> </a>,\n",
       " <a href=\"https://twitter.com/SPACEdotcom?cmpid=556676\" target=\"_blank\"><i class=\"fa fa-twitter\"></i></a>,\n",
       " <a href=\"https://plus.google.com/+SPACEcom/posts?cmpid=556678\" target=\"_blank\"><i class=\"fa fa-google-plus\"></i></a>,\n",
       " <a class=\"nav-item \" href=\"/news\">news</a>,\n",
       " <a class=\"nav-item \" href=\"/tech-robots\">tech</a>,\n",
       " <a class=\"nav-item \" href=\"/spaceflight\">spaceflight</a>,\n",
       " <a class=\"nav-item \" href=\"/science-astronomy\">science &amp; astronomy</a>,\n",
       " <a class=\"nav-item \" href=\"/search-for-life\">search for life</a>,\n",
       " <a class=\"nav-item \" href=\"/skywatching\">skywatching</a>,\n",
       " <a class=\"nav-item \" href=\"/video\">video</a>,\n",
       " <a class=\"nav-item highlight\" href=\"/33797-total-solar-eclipse-2017-guide.html\">Eclipse 2017</a>,\n",
       " <a alt=\"Space.com\" href=\"/\">\n",
       " <svg class=\"sticky-logo\" id=\"space-logo\" version=\"1.1\" viewbox=\"0 0 258 60\" x=\"0px\" xml:space=\"preserve\" xmlns=\"https://www.w3.org/2000/svg\" xmlns:xlink=\"https://www.w3.org/1999/xlink\" y=\"0px\">\n",
       " <polygon fill=\"#FFFFFF\" points=\"147.3,58.2 123.6,1.7 111.1,1.7 87.3,58.2 99.9,58.2 117.3,16.6 134.8,58.2\"></polygon>\n",
       " <path d=\"M24.4,58.8c-8.5,0-17.1-3-23.8-9l7.3-8.7c5,4.2,10.3,6.8,16.7,6.8c5,0,8.1-2,8.1-5.3\n",
       "     v-0.2c0-3.1-1.9-4.7-11.3-7.1c-11.3-2.9-18.6-6-18.6-17.1V18C2.8,7.8,11,1.1,22.4,1.1c8.2,0,15.1,2.6,20.8,7.1l-6.4,9.3\n",
       "     c-5-3.4-9.9-5.5-14.6-5.5c-4.7,0-7.2,2.2-7.2,4.9V17c0,3.7,2.4,4.9,12.1,7.4c11.4,3,17.8,7.1,17.8,16.8v0.2\n",
       "     C45,52.5,36.5,58.8,24.4,58.8z\" fill=\"#FFFFFF\"></path>\n",
       " <path d=\"M72.2,41.1h-9.4V58H50.5V1.9h22.9c13.4,0,21.5,7.9,21.5,19.4v0.2\n",
       "     C94.8,34.4,84.8,41.1,72.2,41.1z M82.3,21.5c0-5.5-3.8-8.5-10-8.5h-9.5v17.1h9.8c6.2,0,9.8-3.7,9.8-8.5V21.5z\" fill=\"#FFFFFF\"></path>\n",
       " <path d=\"M172.9,58.9c-16.5,0-28.8-12.7-28.8-28.8v-0.2c0-15.9,12-29,29.2-29\n",
       "     c10.6,0,16.9,3.5,22.1,8.7l-7.8,9.1c-4.3-3.9-8.7-6.3-14.3-6.3c-9.5,0-16.3,7.9-16.3,17.5v0.2c0,9.6,6.7,17.6,16.3,17.6\n",
       "     c6.4,0,10.3-2.6,14.7-6.6l7.8,7.9C190.2,55.1,183.7,58.9,172.9,58.9z\" fill=\"#FFFFFF\"></path>\n",
       " <path d=\"M202.3,58V1.9h33.5v11h-21.3v11.4h17.7v11h-17.7V47h21.7v11H202.3z\" fill=\"#FFFFFF\"></path>\n",
       " <path d=\"M242.3,1.7h3.9v4h-3.9V1.7z\" fill=\"#FFFFFF\"></path>\n",
       " <path d=\"M242,14.5c0-3.9,3-6.8,6.8-6.8h0c3.7,0,6.8,2.9,6.8,6.9c0,2.5-0.8,4-2.2,5.2\n",
       "     l-2.4-2.3c0.9-0.8,1.4-1.7,1.4-3c0-1.9-1.6-3.2-3.6-3.2h0c-2,0-3.6,1.3-3.6,3.3c0,1.2,0.5,2.1,1.4,3l-2.2,2.2\n",
       "     C243,18.6,242,17.1,242,14.5z\" fill=\"#FFFFFF\"></path>\n",
       " <path d=\"M242,28.4c0-4.1,3-7.1,6.8-7.1h0c3.8,0,6.8,3,6.8,7.1c0,4.1-3,7.1-6.8,7.1h0\n",
       "     C245,35.5,242,32.4,242,28.4z M248.8,31.8c1.9,0,3.6-1.4,3.6-3.4c0-2.1-1.6-3.4-3.6-3.4h0c-1.9,0-3.6,1.4-3.6,3.4\n",
       "     C245.2,30.5,246.8,31.8,248.8,31.8L248.8,31.8z\" fill=\"#FFFFFF\"></path>\n",
       " <path d=\"M242.3,54.4h7.3c1.8,0,2.7-0.8,2.7-2.2s-0.9-2.3-2.7-2.3h-7.3v-3.7h7.3\n",
       "     c1.8,0,2.7-0.8,2.7-2.2c0-1.4-0.9-2.2-2.7-2.2h-7.3v-3.7h13.1v3.7h-1.9c1.1,0.9,2.1,2,2.1,3.9c0,1.7-0.8,3-2.1,3.7\n",
       "     c1.3,1.1,2.1,2.5,2.1,4.3c0,2.8-1.7,4.4-4.8,4.4h-8.5V54.4z\" fill=\"#FFFFFF\"></path>\n",
       " </svg> </a>,\n",
       " <a class=\"nav-item \" href=\"/news\">news</a>,\n",
       " <a class=\"nav-item \" href=\"/tech-robots\">tech</a>,\n",
       " <a class=\"nav-item \" href=\"/spaceflight\">spaceflight</a>,\n",
       " <a class=\"nav-item \" href=\"/science-astronomy\">science &amp; astronomy</a>,\n",
       " <a class=\"nav-item \" href=\"/search-for-life\">search for life</a>,\n",
       " <a class=\"nav-item \" href=\"/skywatching\">skywatching</a>,\n",
       " <a class=\"nav-item \" href=\"/video\">video</a>,\n",
       " <a class=\"nav-item \" href=\"/33797-total-solar-eclipse-2017-guide.html\">Eclipse 2017</a>,\n",
       " <a href=\"https://www.facebook.com/spacecom?cmpid=556675\" target=\"_blank\"><i class=\"fa fa-facebook\"></i></a>,\n",
       " <a href=\"https://flipboard.com/@Spacecom\" target=\"_blank\">\n",
       " <svg class=\"flipboardStickyHeader\" height=\"40px\" version=\"1.1\" viewbox=\"-16.531 -10 40 40\" width=\"40px\" x=\"0px\" xml:space=\"preserve\" xmlns=\"https://www.w3.org/2000/svg\" xmlns:xlink=\"https://www.w3.org/1999/xlink\" y=\"0px\">\n",
       " <polygon points=\"-16.531,-10 -16.531,3.301 -16.531,16.579 -16.531,29.879 -3.23,29.879 -3.23,16.579\n",
       " \t\t-3.23,3.301 -3.23,-10 \t\"></polygon>\n",
       " <rect height=\"13.278\" width=\"13.278\" x=\"-3.23\" y=\"3.301\"></rect>\n",
       " <polygon points=\"10.048,-10 -3.23,-10 -3.23,3.301 10.048,3.301 23.348,3.301 23.348,-10 \t\"></polygon>\n",
       " </svg> </a>,\n",
       " <a href=\"https://twitter.com/SPACEdotcom?cmpid=556676\" target=\"_blank\"><i class=\"fa fa-twitter\"></i></a>,\n",
       " <a href=\"https://plus.google.com/+SPACEcom/posts?cmpid=556678\" target=\"_blank\"><i class=\"fa fa-google-plus\"></i></a>,\n",
       " <a href=\"/\" itemprop=\"item\" title=\"Space.com\"><span itemprop=\"name\">Space.com</span></a>,\n",
       " <a href=\"/science-astronomy\" itemprop=\"item\" title=\"Science &amp; Astronomy\"><span itemprop=\"name\">Science &amp; Astronomy</span></a>,\n",
       " <a href=\"https://www.space.com/78-curiosity-mars-science-laboratory.html\">Mars rover Curiosity</a>,\n",
       " <a href=\"https://www.space.com/35021-boron-found-on-mars-for-first-time-by-curiosity-rover-video.html\">Boron Found on Mars for First Time By Curiosity (Video)</a>,\n",
       " <a href=\"http://onlinelibrary.wiley.com/doi/10.1002/2017GL074480/abstract\">journal Geophysical Research Letters</a>,\n",
       " <a href=\"http://blogs.agu.org/geospace/2017/09/05/discovery-boron-mars-adds-evidence-habitability/\">in a statement</a>,\n",
       " <a href=\"https://www.space.com/37988-did-life-emerge-from-physical-laws.html\">key requirements for basic lifelike systems</a>,\n",
       " <a class=\"share-this\" href=\"https://www.facebook.com/sharer/sharer.php?u=https://www.space.com/15245-life-mars.html\" target=\"_blank\">Share This</a>,\n",
       " <a href=\"https://www.space.com/35018-mars-support-life-millions-years-curiosity-rover.html\">long stretches in the distant past</a>,\n",
       " <a href=\"https://twitter.com/astroengine?lang=en\">@astroengine</a>,\n",
       " <a href=\"http://www.astroengine.com/\">Astroengine.com</a>,\n",
       " <a href=\"http://twitter.com/spacedotcom\">@Spacedotcom</a>,\n",
       " <a href=\"https://www.facebook.com/spacecom\">Facebook</a>,\n",
       " <a href=\"https://plus.google.com/+SPACEcom/posts\">Google+</a>,\n",
       " <a href=\"https://www.space.com/38121-mars-rover-curiosity-boron-habitability.html\">Space.com</a>,\n",
       " <a href=\"/16877-mars-life-search-photo-timeline.html\">\n",
       " <span class=\"related-title\">The Search for Life on Mars (A Photo Timeline)</span>\n",
       " </a>,\n",
       " <a href=\"/34036-spectacular-mars-landscape-photos-curiosity-rover.html\">\n",
       " <span class=\"related-title\">Photos: Spectacular Mars Vistas by NASA's Curiosity Rover</span>\n",
       " </a>,\n",
       " <a href=\"/37712-mars-rover-curiosity-10-biggest-moments-5-years.html\">\n",
       " <span class=\"related-title\">Ancient Mars Lakes &amp; Laser Blasts: Curiosity Rover's 10 Biggest Moments in 1st 5 Years</span>\n",
       " </a>,\n",
       " <a class=\"fa fa-facebook\" href=\"https://www.facebook.com/spacecom?cmpid=556675\" target=\"_blank\"></a>,\n",
       " <a href=\"https://flipboard.com/@Spacecom\" target=\"_blank\">\n",
       " <svg class=\"flipboardFollowUs\" height=\"40px\" version=\"1.1\" viewbox=\"-16.531 -10 40 40\" width=\"40px\" x=\"0px\" xml:space=\"preserve\" xmlns=\"https://www.w3.org/2000/svg\" xmlns:xlink=\"https://www.w3.org/1999/xlink\" y=\"0px\">\n",
       " <polygon points=\"-16.531,-10 -16.531,3.301 -16.531,16.579 -16.531,29.879 -3.23,29.879 -3.23,16.579\n",
       " \t\t-3.23,3.301 -3.23,-10 \t\"></polygon>\n",
       " <rect height=\"13.278\" width=\"13.278\" x=\"-3.23\" y=\"3.301\"></rect>\n",
       " <polygon points=\"10.048,-10 -3.23,-10 -3.23,3.301 10.048,3.301 23.348,3.301 23.348,-10 \t\"></polygon>\n",
       " </svg> </a>,\n",
       " <a class=\"fa fa-twitter\" href=\"https://twitter.com/SPACEdotcom?cmpid=556676\" target=\"_blank\"></a>,\n",
       " <a class=\"fa fa-google-plus\" href=\"https://plus.google.com/+SPACEcom/posts?cmpid=556678\" target=\"_blank\"></a>,\n",
       " <a data-mod=\"fallback\" href=\"/38151-cassini-nears-crash-into-saturn.html\">\n",
       " <img alt=\"Saturn's Southern Hemisphere\" class=\"pure-img lazy\" data-src=\"https://img.purch.com/rc/107x73/aHR0cDovL3d3dy5zcGFjZS5jb20vaW1hZ2VzL2kvMDAwLzA2OS85NTIvb3JpZ2luYWwvc2F0dXJuLXNvdXRoZXJuLWhlbS5qcGc=\"/>\n",
       " <p>The End Is Nigh for Cassini: Saturn Probe Enters Final 48 Hours</p>\n",
       " </a>,\n",
       " <a data-mod=\"fallback\" href=\"/38146-nasa-ksc-damage-from-hurricane-irma.html\">\n",
       " <img alt=\"KARS Park I flooding\" class=\"pure-img lazy\" data-src=\"https://img.purch.com/rc/107x73/aHR0cDovL3d3dy5zcGFjZS5jb20vaW1hZ2VzL2kvMDAwLzA2OS85MjYvb3JpZ2luYWwvaXJtYS1rYXJzLXBhcmstaS1mbG9vZGluZy5qcGc=\"/>\n",
       " <p>In Photos: Hurricane Irma Damage at NASA's Kennedy Space Center</p>\n",
       " </a>,\n",
       " <a data-mod=\"fallback\" href=\"/38150-new-film-nova-death-dive-to-saturn.html\">\n",
       " <img alt=\"\" class=\"pure-img lazy\" data-src=\"https://img.purch.com/rc/107x73/aHR0cDovL3d3dy5zcGFjZS5jb20vaW1hZ2VzL2kvMDAwLzA2OS85NTEvb3JpZ2luYWwvY2Fzc2luaS1hdC1zYXR1cm4tYXJ0LmpwZw==\"/>\n",
       " <p>'Death Dive to Saturn': New 'NOVA' Special Celebrates Cassini Mission </p>\n",
       " </a>,\n",
       " <a data-mod=\"fallback\" href=\"/38142-cassini-greatest-saturn-discoveries.html\">\n",
       " <img alt=\"Cassini at Saturn art\" class=\"pure-img lazy\" data-src=\"https://img.purch.com/rc/107x73/aHR0cDovL3d3dy5zcGFjZS5jb20vaW1hZ2VzL2kvMDAwLzA2OS85MDgvb3JpZ2luYWwvY2Fzc2luaS1zYXR1cm4uanBn\"/>\n",
       " <p>Cassini's 13 Greatest Discoveries During Its 13 Years at Saturn</p>\n",
       " </a>,\n",
       " <a data-mod=\"fallback\" href=\"/38147-the-farthest-voyager-documentary-pbs-encore.html\">\n",
       " <img alt=\"voyager 40 years the farthest\" class=\"pure-img lazy\" data-src=\"https://img.purch.com/rc/107x73/aHR0cDovL3d3dy5zcGFjZS5jb20vaW1hZ2VzL2kvMDAwLzA2OS8xODcvb3JpZ2luYWwvdm95YWdlci10aGUtZmFydGhlc3QtNDAteWVhcnMwMS5qcGc=\"/>\n",
       " <p>'The Farthest' Returns for an Encore in November on PBS</p>\n",
       " </a>,\n",
       " <a href=\"/\">Home</a>,\n",
       " <a href=\"/about\">About Us</a>,\n",
       " <a href=\"http://purch.com/\" target=\"_blank\">Company Info</a>,\n",
       " <a href=\"/about\">About Us</a>,\n",
       " <a href=\"http://purch.com/#contact\" target=\"_blank\">Contact Us</a>,\n",
       " <a href=\"http://purch.com/advertise/\" target=\"_blank\">Advertise with Us</a>,\n",
       " <a href=\"http://purch.com/#contact\" target=\"_blank\">Using Our Content</a>,\n",
       " <a href=\"http://purch.com/#contact\" target=\"_blank\">Licensing &amp; Reprints</a>,\n",
       " <a href=\"http://purch.com/terms-of-use/\" target=\"_blank\">Terms of Use</a>,\n",
       " <a href=\"http://purch.com/copyright-policy/\" target=\"_blank\">Copyright Policy</a>,\n",
       " <a href=\"http://purch.com/privacy-policy/\" target=\"_blank\">Privacy Policy</a>,\n",
       " <a href=\"http://www.toptenreviews.com/\">Top Ten Reviews</a>,\n",
       " <a href=\"http://www.tomsguide.com/\">Tom's Guide</a>,\n",
       " <a href=\"https://www.laptopmag.com/\">Laptop Mag</a>,\n",
       " <a href=\"http://www.tomshardware.com/\">Tom's Hardware</a>,\n",
       " <a href=\"http://www.businessnewsdaily.com/\">Business News Daily</a>,\n",
       " <a href=\"http://www.tomsitpro.com/\">Tom's IT Pro</a>,\n",
       " <a href=\"https://www.space.com/\">Space.com</a>,\n",
       " <a href=\"https://www.livescience.com/\">Live Science</a>,\n",
       " <a href=\"http://activejunky.com/\">Active Junky</a>,\n",
       " <a href=\"http://shopsavvy.com/\">ShopSavvy</a>,\n",
       " <a href=\"http://www.anandtech.com/\">AnandTech</a>,\n",
       " <a class=\"fa fa-facebook\" href=\"https://www.facebook.com/spacecom?cmpid=556675\" target=\"_blank\"></a>,\n",
       " <a class=\"fa fa-twitter\" href=\"https://twitter.com/SPACEdotcom?cmpid=556676\" target=\"_blank\"></a>,\n",
       " <a class=\"fa fa-linkedin\" href=\"https://www.linkedin.com/company/imaginova?cmpid=556677\" target=\"_blank\"></a>,\n",
       " <a class=\"fa fa-google-plus\" href=\"https://plus.google.com/+SPACEcom/posts?cmpid=556678\" target=\"_blank\"></a>,\n",
       " <a class=\"fa fa-rss\" href=\"https://www.space.com/home/feed/site.xml\" target=\"_blank\"></a>,\n",
       " <a class=\"fa fa-youtube\" href=\"https://www.youtube.com/user/VideoFromSpace\" target=\"_blank\"></a>,\n",
       " <a href=\"//purch.com/\">\n",
       " <img alt=\"Purch\" height=\"41\" src=\"https://www.space.com/resources/img/purch-logo.png?968c8da\" width=\"135\"/>\n",
       " </a>]"
      ]
     },
     "execution_count": 12,
     "metadata": {},
     "output_type": "execute_result"
    }
   ],
   "source": [
    "soup.findAll('a',href=True)"
   ]
  },
  {
   "cell_type": "code",
   "execution_count": 12,
   "metadata": {
    "collapsed": true
   },
   "outputs": [],
   "source": [
    "soup=BeautifulSoup(response.data, \"lxml\")"
   ]
  },
  {
   "cell_type": "code",
   "execution_count": 13,
   "metadata": {
    "collapsed": true
   },
   "outputs": [],
   "source": [
    "alllinks=soup.findAll('a',href=True)"
   ]
  },
  {
   "cell_type": "code",
   "execution_count": null,
   "metadata": {
    "collapsed": true
   },
   "outputs": [],
   "source": []
  }
 ],
 "metadata": {
  "kernelspec": {
   "display_name": "Python 3",
   "language": "python",
   "name": "python3"
  },
  "language_info": {
   "codemirror_mode": {
    "name": "ipython",
    "version": 3
   },
   "file_extension": ".py",
   "mimetype": "text/x-python",
   "name": "python",
   "nbconvert_exporter": "python",
   "pygments_lexer": "ipython3",
   "version": "3.6.2"
  }
 },
 "nbformat": 4,
 "nbformat_minor": 2
}
