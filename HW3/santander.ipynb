{
 "cells": [
  {
   "cell_type": "code",
   "execution_count": 1,
   "metadata": {
    "collapsed": true
   },
   "outputs": [],
   "source": [
    "import MySQLdb\n",
    "import timeit\n",
    "from __future__ import division   \n",
    "\n",
    "db = MySQLdb.connect(host=\"localhost\",  # your host \n",
    "                     user=\"root\",       # username\n",
    "                     passwd=\"tianyu5293\",     # password\n",
    "                     db=\"info7390\")   # name of the database\n",
    "\n",
    "# Create a variable stores the total number of Santander recordes\n",
    "total = 95071\n",
    "\n",
    "# Create a Cursor object to execute queries\n",
    "cursor = db.cursor()"
   ]
  },
  {
   "cell_type": "markdown",
   "metadata": {},
   "source": [
    "# Query 1"
   ]
  },
  {
   "cell_type": "markdown",
   "metadata": {},
   "source": [
    "Count the number of customers that have more than one Saving Account."
   ]
  },
  {
   "cell_type": "code",
   "execution_count": 2,
   "metadata": {},
   "outputs": [
    {
     "name": "stdout",
     "output_type": "stream",
     "text": [
      "The number of Santander customers that have more than one Saving Account is: 6455\n",
      "The percentage is 6.78966246279%\n"
     ]
    }
   ],
   "source": [
    "query = \"SELECT COUNT(*) AS count FROM santander WHERE ind_ahor_fin_ult1 > '1'\"\n",
    "\n",
    "cursor.execute(query) \n",
    "\n",
    "for row in cursor.fetchall() :\n",
    "    print 'The number of Santander customers that have more than one Saving Account is:', row[0]\n",
    "    print 'The percentage is ' + str(float(row[0]/total * 100)) + '%'"
   ]
  },
  {
   "cell_type": "code",
   "execution_count": 3,
   "metadata": {},
   "outputs": [
    {
     "data": {
      "text/plain": [
       "0.05897402763366699"
      ]
     },
     "execution_count": 3,
     "metadata": {},
     "output_type": "execute_result"
    }
   ],
   "source": [
    "timeit.Timer('cursor.execute(query)',setup=\"from __main__ import cursor,query\").timeit(number=1)"
   ]
  },
  {
   "cell_type": "markdown",
   "metadata": {},
   "source": [
    "# Query 2"
   ]
  },
  {
   "cell_type": "markdown",
   "metadata": {},
   "source": [
    "Count the number of customers that are younger than 20 years old."
   ]
  },
  {
   "cell_type": "code",
   "execution_count": 4,
   "metadata": {},
   "outputs": [
    {
     "name": "stdout",
     "output_type": "stream",
     "text": [
      "The number of customers that are younger than 20 years old is: 39282\n",
      "The percentage is 41.3185934722%\n"
     ]
    }
   ],
   "source": [
    "query = \"SELECT COUNT(*) AS count FROM santander WHERE age < '25'\"\n",
    "\n",
    "cursor.execute(query)\n",
    "\n",
    "for row in cursor.fetchall() :\n",
    "    print 'The number of customers that are younger than 20 years old is:', row[0]\n",
    "    print 'The percentage is ' + str(float(row[0]/total * 100)) + '%'"
   ]
  },
  {
   "cell_type": "code",
   "execution_count": 5,
   "metadata": {},
   "outputs": [
    {
     "data": {
      "text/plain": [
       "0.05112600326538086"
      ]
     },
     "execution_count": 5,
     "metadata": {},
     "output_type": "execute_result"
    }
   ],
   "source": [
    "timeit.Timer('cursor.execute(query)',setup=\"from __main__ import cursor,query\").timeit(number=1)"
   ]
  },
  {
   "cell_type": "markdown",
   "metadata": {
    "collapsed": true
   },
   "source": [
    "# Query 3"
   ]
  },
  {
   "cell_type": "markdown",
   "metadata": {},
   "source": [
    "Count the number of customers whose gross income of the household is larger than $100,000."
   ]
  },
  {
   "cell_type": "code",
   "execution_count": 6,
   "metadata": {},
   "outputs": [
    {
     "name": "stdout",
     "output_type": "stream",
     "text": [
      "The number of customers whose gross income of the household is larger than $100,000 is: 57175\n",
      "The percentage is 60.1392643393%\n"
     ]
    }
   ],
   "source": [
    "query = \"SELECT COUNT(*) AS count FROM santander WHERE renta > '150000'\"\n",
    "\n",
    "cursor.execute(query)\n",
    "\n",
    "for row in cursor.fetchall() :\n",
    "    print 'The number of customers whose gross income of the household is larger than $100,000 is:', row[0]\n",
    "    print 'The percentage is ' + str(float(row[0]/total * 100)) + '%'"
   ]
  },
  {
   "cell_type": "code",
   "execution_count": 7,
   "metadata": {},
   "outputs": [
    {
     "data": {
      "text/plain": [
       "0.10303092002868652"
      ]
     },
     "execution_count": 7,
     "metadata": {},
     "output_type": "execute_result"
    }
   ],
   "source": [
    "timeit.Timer('cursor.execute(query)',setup=\"from __main__ import cursor,query\").timeit(number=1)"
   ]
  },
  {
   "cell_type": "markdown",
   "metadata": {},
   "source": [
    "# Query 4"
   ]
  },
  {
   "cell_type": "markdown",
   "metadata": {},
   "source": [
    "Count the number of customers who own Junior Account."
   ]
  },
  {
   "cell_type": "code",
   "execution_count": 8,
   "metadata": {},
   "outputs": [
    {
     "name": "stdout",
     "output_type": "stream",
     "text": [
      "The number of customers who own Junior Account is: 853\n",
      "The percentage is 0.897224179824%\n"
     ]
    }
   ],
   "source": [
    "query = \"SELECT COUNT(*) AS count FROM santander WHERE ind_ctju_fin_ult1 > '0'\"\n",
    "\n",
    "cursor.execute(query)\n",
    "\n",
    "for row in cursor.fetchall() :\n",
    "    print 'The number of customers who own Junior Account is:', row[0]\n",
    "    print 'The percentage is ' + str(float(row[0]/total * 100)) + '%'"
   ]
  },
  {
   "cell_type": "code",
   "execution_count": 9,
   "metadata": {},
   "outputs": [
    {
     "data": {
      "text/plain": [
       "0.0493319034576416"
      ]
     },
     "execution_count": 9,
     "metadata": {},
     "output_type": "execute_result"
    }
   ],
   "source": [
    "timeit.Timer('cursor.execute(query)',setup=\"from __main__ import cursor,query\").timeit(number=1)"
   ]
  },
  {
   "cell_type": "markdown",
   "metadata": {},
   "source": [
    "# Query 5"
   ]
  },
  {
   "cell_type": "markdown",
   "metadata": {},
   "source": [
    "Show the gender, age and city of top 3 rich people in this dataset!"
   ]
  },
  {
   "cell_type": "code",
   "execution_count": 10,
   "metadata": {},
   "outputs": [
    {
     "name": "stdout",
     "output_type": "stream",
     "text": [
      "Gender, Age,    City\n",
      "   H    22    \"CADIZ\"\n",
      "   V    78    \"SALAMANCA\"\n",
      "   V    54    \"MADRID\"\n",
      "   H    31    \"GRANADA\"\n",
      "   H    23    \"PONTEVEDRA\"\n"
     ]
    }
   ],
   "source": [
    "query = \"SELECT sexo, age, nomprov FROM santander ORDER BY renta DESC LIMIT 5\"\n",
    "\n",
    "cursor.execute(query)\n",
    "\n",
    "print ('Gender, Age,    City')\n",
    "\n",
    "for row in cursor.fetchall() :\n",
    "    print '  ', row[0],'  ', row[1], '  ', row[2]"
   ]
  },
  {
   "cell_type": "code",
   "execution_count": 11,
   "metadata": {},
   "outputs": [
    {
     "data": {
      "text/plain": [
       "0.10169601440429688"
      ]
     },
     "execution_count": 11,
     "metadata": {},
     "output_type": "execute_result"
    }
   ],
   "source": [
    "timeit.Timer('cursor.execute(query)',setup=\"from __main__ import cursor,query\").timeit(number=1)"
   ]
  }
 ],
 "metadata": {
  "kernelspec": {
   "display_name": "Python 2",
   "language": "python",
   "name": "python2"
  },
  "language_info": {
   "codemirror_mode": {
    "name": "ipython",
    "version": 2
   },
   "file_extension": ".py",
   "mimetype": "text/x-python",
   "name": "python",
   "nbconvert_exporter": "python",
   "pygments_lexer": "ipython2",
   "version": "2.7.13"
  }
 },
 "nbformat": 4,
 "nbformat_minor": 2
}
